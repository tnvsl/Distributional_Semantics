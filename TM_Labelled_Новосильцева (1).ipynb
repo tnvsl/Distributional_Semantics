{
  "cells": [
    {
      "cell_type": "code",
      "source": [
        "import os\n",
        "import gensim\n",
        "from gensim.models import Phrases\n",
        "import gensim.corpora as corpora\n",
        "from pprint import pprint\n",
        "import numpy as np"
      ],
      "metadata": {
        "id": "s3fN1K5_fZqZ"
      },
      "execution_count": null,
      "outputs": []
    },
    {
      "cell_type": "code",
      "source": [
        "!pip install pymorphy2\n",
        "import pymorphy2\n",
        "morph = pymorphy2.MorphAnalyzer()"
      ],
      "metadata": {
        "id": "4oaOk9F4hJE5",
        "colab": {
          "base_uri": "https://localhost:8080/"
        },
        "outputId": "30e0d9c9-16c9-40a5-afad-a510d48ac814"
      },
      "execution_count": null,
      "outputs": [
        {
          "output_type": "stream",
          "name": "stdout",
          "text": [
            "Looking in indexes: https://pypi.org/simple, https://us-python.pkg.dev/colab-wheels/public/simple/\n",
            "Collecting pymorphy2\n",
            "  Downloading pymorphy2-0.9.1-py3-none-any.whl (55 kB)\n",
            "\u001b[K     |████████████████████████████████| 55 kB 4.0 MB/s \n",
            "\u001b[?25hCollecting docopt>=0.6\n",
            "  Downloading docopt-0.6.2.tar.gz (25 kB)\n",
            "Collecting pymorphy2-dicts-ru<3.0,>=2.4\n",
            "  Downloading pymorphy2_dicts_ru-2.4.417127.4579844-py2.py3-none-any.whl (8.2 MB)\n",
            "\u001b[K     |████████████████████████████████| 8.2 MB 24.2 MB/s \n",
            "\u001b[?25hCollecting dawg-python>=0.7.1\n",
            "  Downloading DAWG_Python-0.7.2-py2.py3-none-any.whl (11 kB)\n",
            "Building wheels for collected packages: docopt\n",
            "  Building wheel for docopt (setup.py) ... \u001b[?25l\u001b[?25hdone\n",
            "  Created wheel for docopt: filename=docopt-0.6.2-py2.py3-none-any.whl size=13723 sha256=6e7605aecc89f88b5f8a35b3d5d417cc046b179e695adf903284dc486aeaa881\n",
            "  Stored in directory: /root/.cache/pip/wheels/56/ea/58/ead137b087d9e326852a851351d1debf4ada529b6ac0ec4e8c\n",
            "Successfully built docopt\n",
            "Installing collected packages: pymorphy2-dicts-ru, docopt, dawg-python, pymorphy2\n",
            "Successfully installed dawg-python-0.7.2 docopt-0.6.2 pymorphy2-0.9.1 pymorphy2-dicts-ru-2.4.417127.4579844\n"
          ]
        }
      ]
    },
    {
      "cell_type": "code",
      "source": [
        "from google.colab import drive\n",
        "drive.mount('/content/drive')\n",
        "path = '/content/drive/MyDrive/LingCorp/LingCorp'"
      ],
      "metadata": {
        "colab": {
          "base_uri": "https://localhost:8080/"
        },
        "id": "AM1NV931_gnc",
        "outputId": "cb4b9bac-947c-48f4-dd25-16e7e4c924bd"
      },
      "execution_count": null,
      "outputs": [
        {
          "output_type": "stream",
          "name": "stdout",
          "text": [
            "Mounted at /content/drive\n"
          ]
        }
      ]
    },
    {
      "cell_type": "code",
      "source": [
        "with open('/content/drive/MyDrive/LingCorp/swl_optimum.txt', 'r', encoding='utf-8') as swl_file:\n",
        "    swl = swl_file.readlines()\n",
        "\n",
        "swl = [w.strip() for w in swl]\n",
        "names = {}\n",
        "files = os.listdir(path)\n",
        "docs = []\n",
        "id2doc = {}\n",
        "\n",
        "for i, file in enumerate(files):\n",
        "    with open(path + '/' + file, 'r', encoding='utf-8') as text_file:\n",
        "        text = text_file.read().split()\n",
        "        text = [word for word in text if not word in swl]\n",
        "        text = [word for word in text if word.isalpha() and len(word) > 2]\n",
        "        docs.append(text)\n",
        "        file_id = file.split(\"_\")[0]\n",
        "        id2doc[i] = file_id"
      ],
      "metadata": {
        "id": "xUbm0TdE_psl"
      },
      "execution_count": null,
      "outputs": []
    },
    {
      "cell_type": "code",
      "source": [
        "docs_lemmatized = []\n",
        "for i in range(0, len(docs)):\n",
        "  text_lemmatized = []\n",
        "  for word in docs[i]:\n",
        "    word = morph.parse(word)[0].normal_form\n",
        "    text_lemmatized.append(word)\n",
        "  docs_lemmatized.append(text_lemmatized)"
      ],
      "metadata": {
        "id": "XKEfDP-HgCo6"
      },
      "execution_count": null,
      "outputs": []
    },
    {
      "cell_type": "code",
      "source": [
        "docs_lemmatized"
      ],
      "metadata": {
        "id": "3afJp-rMAfZ4"
      },
      "execution_count": null,
      "outputs": []
    },
    {
      "cell_type": "code",
      "execution_count": null,
      "metadata": {
        "id": "hDR_vHhTiIMl"
      },
      "outputs": [],
      "source": [
        "files = os.listdir(path)\n",
        "bigram = Phrases(docs_lemmatized, min_count=4)\n",
        "bigram_mod = gensim.models.phrases.Phraser(bigram)\n",
        "docs_lemmatized_phraser = [bigram_mod[doc] for doc in docs_lemmatized]\n",
        "id2word = corpora.Dictionary(docs_lemmatized_phraser)\n",
        "id2word.filter_extremes(no_below=3, no_above=0.9)\n",
        "corpus = [id2word.doc2bow(text) for text in docs_lemmatized_phraser]"
      ]
    },
    {
      "cell_type": "code",
      "source": [
        "docs_lemmatized_phraser[-3]"
      ],
      "metadata": {
        "id": "Us8fKpseyrEa"
      },
      "execution_count": null,
      "outputs": []
    },
    {
      "cell_type": "code",
      "execution_count": null,
      "metadata": {
        "id": "-ckzOYlCwvMC"
      },
      "outputs": [],
      "source": [
        "from gensim.models import CoherenceModel\n",
        "\n",
        "def compute_coherence_values(dictionary, corpus, texts, limit, start=2, step=5):\n",
        "    coherence_values = []\n",
        "    model_list = []\n",
        "    for num_topics in range(start, limit, step):\n",
        "        model = gensim.models.ldamodel.LdaModel(corpus=corpus,\n",
        "                                                id2word=id2word,\n",
        "                                                num_topics=num_topics,\n",
        "                                                passes = 10,\n",
        "                                                iterations=100,\n",
        "                                                eval_every = 1\n",
        "                                                )\n",
        "        model_list.append(model)\n",
        "        coherencemodel = CoherenceModel(model=model, texts=texts, dictionary=dictionary, coherence='c_v')\n",
        "        coherence_values.append(coherencemodel.get_coherence())\n",
        "\n",
        "    return model_list, coherence_values"
      ]
    },
    {
      "cell_type": "code",
      "execution_count": null,
      "metadata": {
        "id": "jbPkgfZvsJfM"
      },
      "outputs": [],
      "source": [
        "import logging\n",
        "logging.basicConfig(format='%(asctime)s : %(levelname)s : %(message)s', level=logging.INFO)"
      ]
    },
    {
      "cell_type": "code",
      "execution_count": null,
      "metadata": {
        "id": "c3gJMYsnvlVA"
      },
      "outputs": [],
      "source": [
        "model_list, coherence_values = compute_coherence_values(dictionary=id2word, corpus=corpus, texts=docs_lemmatized_phraser, start=5, limit=30, step=5)"
      ]
    },
    {
      "cell_type": "code",
      "execution_count": null,
      "metadata": {
        "colab": {
          "base_uri": "https://localhost:8080/",
          "height": 279
        },
        "id": "pdjCO26-vqcJ",
        "outputId": "42196780-980f-4b7d-8489-3da4832d6be6"
      },
      "outputs": [
        {
          "output_type": "display_data",
          "data": {
            "text/plain": [
              "<Figure size 432x288 with 1 Axes>"
            ],
            "image/png": "[encoded data removed]"
          },
          "metadata": {
            "needs_background": "light"
          }
        }
      ],
      "source": [
        "import matplotlib.pyplot as plt\n",
        "%matplotlib inline\n",
        "limit=30; start=5; step=5;\n",
        "x = range(start, limit, step)\n",
        "plt.plot(x, coherence_values)\n",
        "plt.xlabel(\"Num Topics\")\n",
        "plt.ylabel(\"Coherence score\")\n",
        "plt.legend((\"coherence_values\"), loc='best')\n",
        "plt.show()"
      ]
    },
    {
      "cell_type": "code",
      "execution_count": null,
      "metadata": {
        "colab": {
          "base_uri": "https://localhost:8080/"
        },
        "id": "YqvnqDVrSWRO",
        "outputId": "169b9f93-f2d1-4326-a35f-38170fdc814a"
      },
      "outputs": [
        {
          "output_type": "stream",
          "name": "stdout",
          "text": [
            "Num Topics = 5  has Coherence Value of 0.2455\n",
            "Num Topics = 10  has Coherence Value of 0.3285\n",
            "Num Topics = 15  has Coherence Value of 0.3209\n",
            "Num Topics = 20  has Coherence Value of 0.322\n",
            "Num Topics = 25  has Coherence Value of 0.3029\n"
          ]
        }
      ],
      "source": [
        "for m, cv in zip(x, coherence_values):\n",
        "    print(\"Num Topics =\", m, \" has Coherence Value of\", round(cv, 4))"
      ]
    },
    {
      "cell_type": "code",
      "execution_count": null,
      "metadata": {
        "id": "BOI1V6EySacq"
      },
      "outputs": [],
      "source": [
        "optimal_model = model_list[4]\n",
        "model_topics = optimal_model.print_topics(-1, 20)\n",
        "pprint(model_topics)"
      ]
    },
    {
      "cell_type": "code",
      "source": [
        "import re\n",
        "topics = {}\n",
        "for i in range (0, len(model_topics)):\n",
        "  words = re.findall(r'[а-яёА-ЯЁ]+', model_topics[i][1])\n",
        "  topics[i]= words"
      ],
      "metadata": {
        "id": "eXmzym2Bgv6c"
      },
      "execution_count": null,
      "outputs": []
    },
    {
      "cell_type": "markdown",
      "source": [
        "# Подбор меток из векторной модели"
      ],
      "metadata": {
        "id": "HDsIWByh16PT"
      }
    },
    {
      "cell_type": "code",
      "execution_count": null,
      "metadata": {
        "id": "hGc0haysA7CL"
      },
      "outputs": [],
      "source": [
        "import gensim\n",
        "from gensim.models.word2vec import Word2Vec \n",
        "from gensim.models import KeyedVectors "
      ]
    },
    {
      "cell_type": "code",
      "source": [
        "!unzip '/content/drive/MyDrive/LingCorp/220.zip' -d 'ruwikiruscorpora_cbow_300'"
      ],
      "metadata": {
        "id": "-On6R2Stv_eR",
        "colab": {
          "base_uri": "https://localhost:8080/"
        },
        "outputId": "b06cbaf5-f7fa-465b-816f-f0e519513d7a"
      },
      "execution_count": null,
      "outputs": [
        {
          "output_type": "stream",
          "name": "stdout",
          "text": [
            "Archive:  /content/drive/MyDrive/LingCorp/220.zip\n",
            "  inflating: ruwikiruscorpora_cbow_300/meta.json  \n",
            "  inflating: ruwikiruscorpora_cbow_300/model.bin  \n",
            "  inflating: ruwikiruscorpora_cbow_300/model.txt  \n",
            "  inflating: ruwikiruscorpora_cbow_300/README  \n"
          ]
        }
      ]
    },
    {
      "cell_type": "code",
      "source": [
        "model = gensim.models.KeyedVectors.load_word2vec_format('ruwikiruscorpora_cbow_300/model.bin', binary=True) "
      ],
      "metadata": {
        "id": "Vw99nfltHoiU"
      },
      "execution_count": null,
      "outputs": []
    },
    {
      "cell_type": "code",
      "source": [
        "pos = {'ADJF': 'ADJ', 'INFN': 'VERB'}\n",
        "vector_dic = {}\n",
        "for num, words in enumerate(topics):\n",
        "  word_vectors = []\n",
        "  for word in topics[num]:\n",
        "    POS = morph.parse(word)[0].tag.POS\n",
        "    if pos.get(POS):\n",
        "      POS = pos.get(POS)\n",
        "    word = word + '_' + POS\n",
        "    try: \n",
        "      word_vectors.append(model.wv[word])\n",
        "    except KeyError:\n",
        "      pass \n",
        "  vector_dic[num] = word_vectors"
      ],
      "metadata": {
        "id": "VSOX2wMJp_tI",
        "colab": {
          "base_uri": "https://localhost:8080/"
        },
        "outputId": "cbd3c583-2706-468a-9336-461b44dec375"
      },
      "execution_count": null,
      "outputs": [
        {
          "output_type": "stream",
          "name": "stderr",
          "text": [
            "<ipython-input-37-51a6e2976454>:11: DeprecationWarning: Call to deprecated `wv` (Attribute will be removed in 4.0.0, use self instead).\n",
            "  word_vectors.append(model.wv[word])\n"
          ]
        }
      ]
    },
    {
      "cell_type": "code",
      "source": [
        "mean_vector = []\n",
        "for i in range(len(vector_dic)):\n",
        "  meanvec = np.mean(vector_dic[i], 0)\n",
        "  mean_vector.append(meanvec)"
      ],
      "metadata": {
        "id": "IqD5Ou5kLQB_"
      },
      "execution_count": null,
      "outputs": []
    },
    {
      "cell_type": "code",
      "source": [
        "similar_words = {}\n",
        "labels = {}\n",
        "labels_tmp = []\n",
        "for i, vectors in enumerate(mean_vector):\n",
        "  similar_words[i] = model.similar_by_vector(vector = vectors, topn = 3)\n",
        "  labels_tmp = []\n",
        "  for j in range (len(similar_words[i])):\n",
        "    labels_tmp.append((similar_words[i][j][0]).split(\"_\")[0])\n",
        "  labels[i] = labels_tmp"
      ],
      "metadata": {
        "id": "kZbpwyzDLvek"
      },
      "execution_count": null,
      "outputs": []
    },
    {
      "cell_type": "code",
      "source": [
        "for key, value in topics.items():\n",
        "  print(f'TOPIC: {\" \".join(topics[key])} \\nLABELS: {\" \".join(labels[key])}\\n')"
      ],
      "metadata": {
        "colab": {
          "base_uri": "https://localhost:8080/"
        },
        "id": "VQ-3oAXuUvxN",
        "outputId": "3c04e853-d998-4e80-f805-8c4abe318a50"
      },
      "execution_count": null,
      "outputs": [
        {
          "output_type": "stream",
          "name": "stdout",
          "text": [
            "TOPIC: слово который текст смысл два это быть китайский свой такой первый этот другой сам язык один система железный диалект мера \n",
            "LABELS: слово смысл понятие\n",
            "\n",
            "TOPIC: слово язык ударение это такой этот один значение разный являться признак понятие который единица связать другой быть следовать основание граница \n",
            "LABELS: понятие например смысл\n",
            "\n",
            "TOPIC: язык который быть первый другой грамматический семиотический понятие особый несколько иметься основа знак распространить слово дравидийский конструкция наука характерный называть \n",
            "LABELS: понятие например иной\n",
            "\n",
            "TOPIC: система языковой идея связанный развивать соссюра организовать выделить язык лингвистика речь обозначать предмет конкретный школа процесс лингвистический традиция поздний два \n",
            "LABELS: понятие языковой семантика\n",
            "\n",
            "TOPIC: один который термин семиотический понятие слово весь текст лексический значение определённый знак единство считаться школа разный работа другой грамматический отдельный \n",
            "LABELS: понятие иной термин\n",
            "\n",
            "TOPIC: английский университет быть степень получить главный многий он международный профессор преподавать специалист родиться стать общий китайский диалект фонетический фонетика произношение \n",
            "LABELS: изучать профессор фонетика\n",
            "\n",
            "TOPIC: семиотический знак означать язык школа наука лингвистический основа понятие быть являться называться метод естественный другой лицо сам который термин говорить \n",
            "LABELS: понятие термин терминология\n",
            "\n",
            "TOPIC: имя язык быть который слово форма русский это иметь стать китайский современный такой первый западный один система некоторый этот новый \n",
            "LABELS: современный другой слово\n",
            "\n",
            "TOPIC: китайский слово быть язык который диалект система тон современный этот фонетический говорить такой иметь большинство один слог часть форма это \n",
            "LABELS: язык слово например\n",
            "\n",
            "TOPIC: язык один активный термин конструкция глагол слово который значение форма единство лексический считаться синтаксический грамматический принадлежность словоизменительный основа единица отдельный \n",
            "LABELS: понятие лексема грамматический\n",
            "\n",
            "TOPIC: дравидийский литературный язык это другой который название литература быть свой сам текст классификация разговорный сформироваться художественный два лицо слово форма \n",
            "LABELS: слово язык текст\n",
            "\n",
            "TOPIC: который язык быть текст грамматический два это слово конструкция такой другой смысл предложение первый называть значение отношение свой определённый сам \n",
            "LABELS: слово смысл понятие\n",
            "\n",
            "TOPIC: язык семантический быть книга идея семантика этот стать свой культура разный один диалект работа естественный смысл вновь универсальный жить \n",
            "LABELS: понимание понятие язык\n",
            "\n",
            "TOPIC: имя быть русский форма стать человек это новый они образовать свой который мужской семья иметь этот суффикс некоторый весь один \n",
            "LABELS: быть иметь говорить\n",
            "\n",
            "TOPIC: слово который текст два смысл свой это первый сам новый данный быть значение такой он внутренний определённый становиться мера другой \n",
            "LABELS: иной сам смысл\n",
            "\n",
            "TOPIC: семиотический быть понятие лингвистика исследование идея наука знак который соссюра направление школа работа называть этот теория стать анализ журнал один \n",
            "LABELS: теория исследование концепция\n",
            "\n",
            "TOPIC: слово язык русский заимствовать заимствование греческий значение новый который французский латинский такой свой немецкий это быть древний род некоторый весь \n",
            "LABELS: латинский греческий слово\n",
            "\n",
            "TOPIC: лингвистический профессор языковой главный язык этот школа быть значимый идея рассматриваться свойство единица изменение считать книга иметь такой большинство являться \n",
            "LABELS: понимание понятие считать\n",
            "\n",
            "TOPIC: который быть текст слово смысл язык имя это свой первый этот два русский значение весь он грамматический сам форма понимание \n",
            "LABELS: смысл слово понятие\n",
            "\n",
            "TOPIC: язык быть имя слово который русский это такой другой новый китайский этот грамматический большинство стать иметь предложение называть они современный \n",
            "LABELS: другой слово говорить\n",
            "\n",
            "TOPIC: язык дравидийский литературный другой который говорить быть литература являться настоящий время иметься этот распространить весь число форма современный особый иметь время \n",
            "LABELS: например быть иметь\n",
            "\n",
            "TOPIC: язык который грамматический быть конструкция другой слово глагол предложение первый большинство характерный основа морфологический три различие подлежащее возможный способ число \n",
            "LABELS: например различие понятие\n",
            "\n",
            "TOPIC: слово язык который русский такой значение быть этот это ударение один понятие являться весь текст форма другой первый свой заимствование \n",
            "LABELS: слово понятие выражение\n",
            "\n",
            "TOPIC: термин семиотический один понятие который знак работа слово язык наука форма школа единица значение лексический грамматический текст другой основа считаться \n",
            "LABELS: понятие терминология термин\n",
            "\n",
            "TOPIC: слог язык согласный гласный слово иметь который сочетание слоговой пример структура однако начальный русский конечный принцип этот конец использоваться звуковой \n",
            "LABELS: сочетание слог слово\n",
            "\n"
          ]
        }
      ]
    },
    {
      "cell_type": "markdown",
      "source": [],
      "metadata": {
        "id": "69uWSeDVFxWi"
      }
    },
    {
      "cell_type": "markdown",
      "source": [
        "# WordNet:"
      ],
      "metadata": {
        "id": "dF0rC_BKFy8-"
      }
    },
    {
      "cell_type": "code",
      "source": [
        "!pip install ruwordnet"
      ],
      "metadata": {
        "id": "A8TKrTLtF7ms",
        "colab": {
          "base_uri": "https://localhost:8080/"
        },
        "outputId": "9910e368-5a3e-4fb0-8d3b-653961eee954"
      },
      "execution_count": null,
      "outputs": [
        {
          "output_type": "stream",
          "name": "stdout",
          "text": [
            "Looking in indexes: https://pypi.org/simple, https://us-python.pkg.dev/colab-wheels/public/simple/\n",
            "Collecting ruwordnet\n",
            "  Downloading ruwordnet-0.0.5.tar.gz (15 kB)\n",
            "Requirement already satisfied: sqlalchemy in /usr/local/lib/python3.8/dist-packages (from ruwordnet) (1.4.44)\n",
            "Requirement already satisfied: greenlet!=0.4.17 in /usr/local/lib/python3.8/dist-packages (from sqlalchemy->ruwordnet) (2.0.1)\n",
            "Building wheels for collected packages: ruwordnet\n",
            "  Building wheel for ruwordnet (setup.py) ... \u001b[?25l\u001b[?25hdone\n",
            "  Created wheel for ruwordnet: filename=ruwordnet-0.0.5-py3-none-any.whl size=12645 sha256=f061efc1dd03f7430888cc4ba720f017f49e9998e805343237fcec4866160963\n",
            "  Stored in directory: /root/.cache/pip/wheels/1a/8f/87/368fccb66c06c5ce100b0985a7d0727fc1f2b97d24b6474c69\n",
            "Successfully built ruwordnet\n",
            "Installing collected packages: ruwordnet\n",
            "Successfully installed ruwordnet-0.0.5\n"
          ]
        }
      ]
    },
    {
      "cell_type": "code",
      "source": [
        "from ruwordnet import RuWordNet\n",
        "wn = RuWordNet(filename_or_session='/content/drive/MyDrive/LingCorp/ruwordnet-2021.db')"
      ],
      "metadata": {
        "id": "C4XYwhvtHVcC"
      },
      "execution_count": null,
      "outputs": []
    },
    {
      "cell_type": "code",
      "source": [
        "wndict = {}\n",
        "for key, top in labels.items():\n",
        "  hypers = []\n",
        "  for word in top:\n",
        "    hyper_temp = []\n",
        "    for i in range(len(wn.get_senses(word))):\n",
        "      try: \n",
        "        hyper = wn.get_senses(word)[i].synset.hypernyms\n",
        "        for k in range(len(hyper)):\n",
        "          word_tmp = str(hyper[k])\n",
        "          title = re.findall('[А-ЯЁ ]+', word_tmp)\n",
        "          hyper_temp.append(title[1].strip(' '))\n",
        "      except IndexError:\n",
        "        pass\n",
        "    if hyper_temp != []:\n",
        "      hypers.append(set(hyper_temp)) \n",
        "  wndict[key] = hypers  "
      ],
      "metadata": {
        "id": "qiO1Y7mlLwlk"
      },
      "execution_count": null,
      "outputs": []
    },
    {
      "cell_type": "code",
      "source": [
        "wndict"
      ],
      "metadata": {
        "colab": {
          "base_uri": "https://localhost:8080/"
        },
        "id": "0JPC4MRhWsBB",
        "outputId": "e92160ab-8c1f-43bb-95e5-dd6eca7c6233"
      },
      "execution_count": null,
      "outputs": [
        {
          "output_type": "execute_result",
          "data": {
            "text/plain": [
              "{0: [{'ЕДИНИЦА ЯЗЫКА', 'СУЖДЕНИЕ'},\n",
              "  {'АБСТРАКТНАЯ СУЩНОСТЬ', 'СУТЬ'},\n",
              "  {'МЕНТАЛЬНЫЙ ОБЪЕКТ'}],\n",
              " 1: [{'МЕНТАЛЬНЫЙ ОБЪЕКТ'}, {'АБСТРАКТНАЯ СУЩНОСТЬ', 'СУТЬ'}],\n",
              " 2: [{'МЕНТАЛЬНЫЙ ОБЪЕКТ'}],\n",
              " 3: [{'МЕНТАЛЬНЫЙ ОБЪЕКТ'}, {'СИСТЕМА'}, {'ЛЕКСИКОЛОГИЯ', 'СМЫСЛ'}],\n",
              " 4: [{'МЕНТАЛЬНЫЙ ОБЪЕКТ'}, {'СЛОВО ЯЗЫКА', 'СЛОВОСОЧЕТАНИЕ'}],\n",
              " 5: [{'УЗНАТЬ', 'УЧИТЬСЯ'},\n",
              "  {'ПРОФЕССОРСКО', 'УЧЕНОЕ ЗВАНИЕ'},\n",
              "  {'ЛИНГВИСТИКА'}],\n",
              " 6: [{'МЕНТАЛЬНЫЙ ОБЪЕКТ'},\n",
              "  {'СЛОВО ЯЗЫКА', 'СЛОВОСОЧЕТАНИЕ'},\n",
              "  {'СЛОВО ЯЗЫКА', 'СЛОВОСОЧЕТАНИЕ'}],\n",
              " 7: [{'ПЕРЕДОВОЙ', 'СВОЙСТВО'}, {'ЕДИНИЦА ЯЗЫКА', 'СУЖДЕНИЕ'}],\n",
              " 8: [{'МЯСНЫЕ СУБПРОДУКТЫ', 'ОРГАНЫ ЧУВСТВ', 'СИСТЕМА'},\n",
              "  {'ЕДИНИЦА ЯЗЫКА', 'СУЖДЕНИЕ'}],\n",
              " 9: [{'МЕНТАЛЬНЫЙ ОБЪЕКТ'}, {'СЛОВО ЯЗЫКА'}, {'СТРОЕНИЕ'}],\n",
              " 10: [{'ЕДИНИЦА ЯЗЫКА', 'СУЖДЕНИЕ'},\n",
              "  {'МЯСНЫЕ СУБПРОДУКТЫ', 'ОРГАНЫ ЧУВСТВ', 'СИСТЕМА'},\n",
              "  {'ЗАПИСЬ'}],\n",
              " 11: [{'ЕДИНИЦА ЯЗЫКА', 'СУЖДЕНИЕ'},\n",
              "  {'АБСТРАКТНАЯ СУЩНОСТЬ', 'СУТЬ'},\n",
              "  {'МЕНТАЛЬНЫЙ ОБЪЕКТ'}],\n",
              " 12: [{'АСПЕКТ', 'МНЕНИЕ', 'МЫСЛИТЕЛЬНЫЙ ПРОЦЕСС'},\n",
              "  {'МЕНТАЛЬНЫЙ ОБЪЕКТ'},\n",
              "  {'МЯСНЫЕ СУБПРОДУКТЫ', 'ОРГАНЫ ЧУВСТВ', 'СИСТЕМА'}],\n",
              " 13: [{'НАХОДИТЬСЯ', 'ОБСТОЯТЕЛЬСТВА', 'ОТНОШЕНИЕ МЕЖДУ СУЩНОСТЯМИ'},\n",
              "  {'ОТНОШЕНИЕ МЕЖДУ СУЩНОСТЯМИ'},\n",
              "  {'ВЫСКАЗАТЬ', 'ДЕЙСТВИЕ', 'ОБЩЕНИЕ', 'СООБЩИТЬ'}],\n",
              " 14: [{'АБСТРАКТНАЯ СУЩНОСТЬ', 'СУТЬ'}],\n",
              " 15: [{'УЧЕНИЕ'},\n",
              "  {'ЛИТЕРАТУРА', 'ОСМОТРЕТЬ', 'УЗНАТЬ'},\n",
              "  {'ОСНОВНАЯ МЫСЛЬ', 'ПОЛОЖЕНИЕ'}],\n",
              " 16: [{'РОМАНСКИЕ ЯЗЫКИ', 'ЯЗЫК'},\n",
              "  {'ГОСУДАРСТВО', 'ИНДОЕВРОПЕЙСКИЕ ЯЗЫКИ', 'ИНОСТРАННОЕ ГОСУДАРСТВО'},\n",
              "  {'ЕДИНИЦА ЯЗЫКА', 'СУЖДЕНИЕ'}],\n",
              " 17: [{'АСПЕКТ', 'МНЕНИЕ', 'МЫСЛИТЕЛЬНЫЙ ПРОЦЕСС'},\n",
              "  {'МЕНТАЛЬНЫЙ ОБЪЕКТ'},\n",
              "  {'МЫСЛИТЕЛЬНЫЙ ПРОЦЕСС', 'ОПРЕДЕЛИТЬ', 'ПЕРЕЧИСЛИТЬ', 'ПОЛАГАТЬ'}],\n",
              " 18: [{'АБСТРАКТНАЯ СУЩНОСТЬ', 'СУТЬ'},\n",
              "  {'ЕДИНИЦА ЯЗЫКА', 'СУЖДЕНИЕ'},\n",
              "  {'МЕНТАЛЬНЫЙ ОБЪЕКТ'}],\n",
              " 19: [{'ЕДИНИЦА ЯЗЫКА', 'СУЖДЕНИЕ'},\n",
              "  {'ВЫСКАЗАТЬ', 'ДЕЙСТВИЕ', 'ОБЩЕНИЕ', 'СООБЩИТЬ'}],\n",
              " 20: [{'НАХОДИТЬСЯ', 'ОБСТОЯТЕЛЬСТВА', 'ОТНОШЕНИЕ МЕЖДУ СУЩНОСТЯМИ'},\n",
              "  {'ОТНОШЕНИЕ МЕЖДУ СУЩНОСТЯМИ'}],\n",
              " 21: [{'ОТНОШЕНИЕ МЕЖДУ СУЩНОСТЯМИ'}, {'МЕНТАЛЬНЫЙ ОБЪЕКТ'}],\n",
              " 22: [{'ЕДИНИЦА ЯЗЫКА', 'СУЖДЕНИЕ'},\n",
              "  {'МЕНТАЛЬНЫЙ ОБЪЕКТ'},\n",
              "  {'ВНЕШНИЙ ОБЛИК',\n",
              "   'ВЫЧИСЛИТЬ',\n",
              "   'ДЕЙСТВИЕ ЧЕЛОВЕКА',\n",
              "   'ЕДИНИЦА ЯЗЫКА',\n",
              "   'ЗАПИСЬ',\n",
              "   'ПОКАЗАТЬ'}],\n",
              " 23: [{'МЕНТАЛЬНЫЙ ОБЪЕКТ'},\n",
              "  {'СЛОВО ЯЗЫКА', 'СЛОВОСОЧЕТАНИЕ'},\n",
              "  {'СЛОВО ЯЗЫКА', 'СЛОВОСОЧЕТАНИЕ'}],\n",
              " 24: [{'СОВОКУПНОСТЬ', 'СОЕДИНИТЬ В ОДНО ЦЕЛОЕ', 'СООТВЕТСТВИЕ'},\n",
              "  {'ЕДИНИЦА ЯЗЫКА', 'ЗВУК', 'СОЧЕТАНИЕ ЗВУКОВ', 'СТИЛЬ В ИСКУССТВЕ'},\n",
              "  {'ЕДИНИЦА ЯЗЫКА', 'СУЖДЕНИЕ'}]}"
            ]
          },
          "metadata": {},
          "execution_count": 54
        }
      ]
    },
    {
      "cell_type": "code",
      "source": [
        "wn_labels = {}\n",
        "for key, values in wndict.items():\n",
        "  common_list = []\n",
        "  for i in range(len(wndict[key])):\n",
        "    for j in range(len(wndict[key])):\n",
        "      try:\n",
        "        if wndict[key][i] !=  wndict[key][j]:\n",
        "          common = wndict[key][i] & wndict[key][j]\n",
        "          if common != set() and common not in common_list:\n",
        "            common_list.append(common)\n",
        "      except IndexError:\n",
        "        pass\n",
        "  wn_labels[key] = common_list[0:3]"
      ],
      "metadata": {
        "id": "yvujEJDKa0X_"
      },
      "execution_count": null,
      "outputs": []
    },
    {
      "cell_type": "code",
      "source": [
        "list_wn = {}\n",
        "t = 0\n",
        "for i in wn_labels.values():\n",
        "  print_list = []\n",
        "  for j in i:\n",
        "    for k in j:\n",
        "      print_list.append(k)\n",
        "  list_wn[t] = list(set(print_list[0:3]))\n",
        "  t += 1"
      ],
      "metadata": {
        "id": "IsddCuS4givY"
      },
      "execution_count": null,
      "outputs": []
    },
    {
      "cell_type": "code",
      "source": [
        "for key, value in list_wn.items():\n",
        "  print(f'TOPIC: {\" \".join(topics[key])}\\nLABELS: {\" | \".join(list_wn[key])}\\n')"
      ],
      "metadata": {
        "colab": {
          "base_uri": "https://localhost:8080/"
        },
        "id": "hCD-N-3CkSpD",
        "outputId": "96e8267c-3ae0-46b3-a358-257c179e991f"
      },
      "execution_count": null,
      "outputs": [
        {
          "output_type": "stream",
          "name": "stdout",
          "text": [
            "TOPIC: слово который текст смысл два это быть китайский свой такой первый этот другой сам язык один система железный диалект мера\n",
            "LABELS: \n",
            "\n",
            "TOPIC: слово язык ударение это такой этот один значение разный являться признак понятие который единица связать другой быть следовать основание граница\n",
            "LABELS: \n",
            "\n",
            "TOPIC: язык который быть первый другой грамматический семиотический понятие особый несколько иметься основа знак распространить слово дравидийский конструкция наука характерный называть\n",
            "LABELS: \n",
            "\n",
            "TOPIC: система языковой идея связанный развивать соссюра организовать выделить язык лингвистика речь обозначать предмет конкретный школа процесс лингвистический традиция поздний два\n",
            "LABELS: \n",
            "\n",
            "TOPIC: один который термин семиотический понятие слово весь текст лексический значение определённый знак единство считаться школа разный работа другой грамматический отдельный\n",
            "LABELS: \n",
            "\n",
            "TOPIC: английский университет быть степень получить главный многий он международный профессор преподавать специалист родиться стать общий китайский диалект фонетический фонетика произношение\n",
            "LABELS: \n",
            "\n",
            "TOPIC: семиотический знак означать язык школа наука лингвистический основа понятие быть являться называться метод естественный другой лицо сам который термин говорить\n",
            "LABELS: \n",
            "\n",
            "TOPIC: имя язык быть который слово форма русский это иметь стать китайский современный такой первый западный один система некоторый этот новый\n",
            "LABELS: \n",
            "\n",
            "TOPIC: китайский слово быть язык который диалект система тон современный этот фонетический говорить такой иметь большинство один слог часть форма это\n",
            "LABELS: \n",
            "\n",
            "TOPIC: язык один активный термин конструкция глагол слово который значение форма единство лексический считаться синтаксический грамматический принадлежность словоизменительный основа единица отдельный\n",
            "LABELS: \n",
            "\n",
            "TOPIC: дравидийский литературный язык это другой который название литература быть свой сам текст классификация разговорный сформироваться художественный два лицо слово форма\n",
            "LABELS: \n",
            "\n",
            "TOPIC: который язык быть текст грамматический два это слово конструкция такой другой смысл предложение первый называть значение отношение свой определённый сам\n",
            "LABELS: \n",
            "\n",
            "TOPIC: язык семантический быть книга идея семантика этот стать свой культура разный один диалект работа естественный смысл вновь универсальный жить\n",
            "LABELS: \n",
            "\n",
            "TOPIC: имя быть русский форма стать человек это новый они образовать свой который мужской семья иметь этот суффикс некоторый весь один\n",
            "LABELS: ОТНОШЕНИЕ МЕЖДУ СУЩНОСТЯМИ\n",
            "\n",
            "TOPIC: слово который текст два смысл свой это первый сам новый данный быть значение такой он внутренний определённый становиться мера другой\n",
            "LABELS: \n",
            "\n",
            "TOPIC: семиотический быть понятие лингвистика исследование идея наука знак который соссюра направление школа работа называть этот теория стать анализ журнал один\n",
            "LABELS: \n",
            "\n",
            "TOPIC: слово язык русский заимствовать заимствование греческий значение новый который французский латинский такой свой немецкий это быть древний род некоторый весь\n",
            "LABELS: \n",
            "\n",
            "TOPIC: лингвистический профессор языковой главный язык этот школа быть значимый идея рассматриваться свойство единица изменение считать книга иметь такой большинство являться\n",
            "LABELS: МЫСЛИТЕЛЬНЫЙ ПРОЦЕСС\n",
            "\n",
            "TOPIC: который быть текст слово смысл язык имя это свой первый этот два русский значение весь он грамматический сам форма понимание\n",
            "LABELS: \n",
            "\n",
            "TOPIC: язык быть имя слово который русский это такой другой новый китайский этот грамматический большинство стать иметь предложение называть они современный\n",
            "LABELS: \n",
            "\n",
            "TOPIC: язык дравидийский литературный другой который говорить быть литература являться настоящий время иметься этот распространить весь число форма современный особый иметь время\n",
            "LABELS: ОТНОШЕНИЕ МЕЖДУ СУЩНОСТЯМИ\n",
            "\n",
            "TOPIC: язык который грамматический быть конструкция другой слово глагол предложение первый большинство характерный основа морфологический три различие подлежащее возможный способ число\n",
            "LABELS: \n",
            "\n",
            "TOPIC: слово язык который русский такой значение быть этот это ударение один понятие являться весь текст форма другой первый свой заимствование\n",
            "LABELS: ЕДИНИЦА ЯЗЫКА\n",
            "\n",
            "TOPIC: термин семиотический один понятие который знак работа слово язык наука форма школа единица значение лексический грамматический текст другой основа считаться\n",
            "LABELS: \n",
            "\n",
            "TOPIC: слог язык согласный гласный слово иметь который сочетание слоговой пример структура однако начальный русский конечный принцип этот конец использоваться звуковой\n",
            "LABELS: ЕДИНИЦА ЯЗЫКА\n",
            "\n"
          ]
        }
      ]
    }
  ],
  "metadata": {
    "colab": {
      "provenance": [],
      "collapsed_sections": [
        "JChelQ80kZx2",
        "wFbGekxR_BEK",
        "HCmgx-tr5LUJ",
        "bzkm85Uy_o6k"
      ]
    },
    "kernelspec": {
      "display_name": "Python 3",
      "language": "python",
      "name": "python3"
    },
    "language_info": {
      "codemirror_mode": {
        "name": "ipython",
        "version": 3
      },
      "file_extension": ".py",
      "mimetype": "text/x-python",
      "name": "python",
      "nbconvert_exporter": "python",
      "pygments_lexer": "ipython3",
      "version": "3.8.5"
    }
  },
  "nbformat": 4,
  "nbformat_minor": 0
}